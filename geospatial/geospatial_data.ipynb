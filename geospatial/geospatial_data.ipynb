{
 "cells": [
  {
   "cell_type": "markdown",
   "metadata": {},
   "source": [
    "# Tutorial Kaggle Geospatial data"
   ]
  },
  {
   "cell_type": "markdown",
   "metadata": {},
   "source": [
    "## Your first map"
   ]
  },
  {
   "cell_type": "code",
   "execution_count": null,
   "metadata": {},
   "outputs": [],
   "source": [
    "import geopandas as gpd"
   ]
  },
  {
   "cell_type": "markdown",
   "metadata": {},
   "source": [
    "There are many, many different geospatial file formats, such as shapefile, GeoJSON, KML, and GPKG. "
   ]
  },
  {
   "cell_type": "code",
   "execution_count": null,
   "metadata": {},
   "outputs": [],
   "source": [
    "# Read in the data\n",
    "full_data = gpd.read_file(\"../input/geospatial-learn-course-data/DEC_lands/DEC_lands/DEC_lands.shp\")\n",
    "\n",
    "# View the first five rows of the data\n",
    "full_data.head()"
   ]
  },
  {
   "cell_type": "code",
   "execution_count": null,
   "metadata": {},
   "outputs": [],
   "source": [
    "data = full_data.loc[:, [\"CLASS\", \"COUNTY\", \"geometry\"]].copy()"
   ]
  },
  {
   "cell_type": "code",
   "execution_count": null,
   "metadata": {},
   "outputs": [],
   "source": [
    "# How many lands of each type are there?\n",
    "data.CLASS.value_counts()"
   ]
  },
  {
   "cell_type": "code",
   "execution_count": null,
   "metadata": {},
   "outputs": [],
   "source": [
    "# Select lands that fall under the \"WILD FOREST\" or \"WILDERNESS\" category\n",
    "wild_lands = data.loc[data.CLASS.isin(['WILD FOREST', 'WILDERNESS'])].copy()\n",
    "wild_lands.head()"
   ]
  },
  {
   "cell_type": "code",
   "execution_count": null,
   "metadata": {},
   "outputs": [],
   "source": [
    "wild_lands.plot()"
   ]
  },
  {
   "cell_type": "code",
   "execution_count": null,
   "metadata": {},
   "outputs": [],
   "source": [
    "# Campsites in New York state (Point)\n",
    "POI_data = gpd.read_file(\"../input/geospatial-learn-course-data/DEC_pointsinterest/DEC_pointsinterest/Decptsofinterest.shp\")\n",
    "campsites = POI_data.loc[POI_data.ASSET=='PRIMITIVE CAMPSITE'].copy()\n",
    "\n",
    "# Foot trails in New York state (LineString)\n",
    "roads_trails = gpd.read_file(\"../input/geospatial-learn-course-data/DEC_roadstrails/DEC_roadstrails/Decroadstrails.shp\")\n",
    "trails = roads_trails.loc[roads_trails.ASSET=='FOOT TRAIL'].copy()\n",
    "\n",
    "# County boundaries in New York state (Polygon)\n",
    "counties = gpd.read_file(\"../input/geospatial-learn-course-data/NY_county_boundaries/NY_county_boundaries/NY_county_boundaries.shp\")"
   ]
  },
  {
   "cell_type": "code",
   "execution_count": null,
   "metadata": {},
   "outputs": [],
   "source": [
    "# Define a base map with county boundaries\n",
    "ax = counties.plot(figsize=(10,10), color='none', edgecolor='gainsboro', zorder=3)\n",
    "\n",
    "# Add wild lands, campsites, and foot trails to the base map\n",
    "wild_lands.plot(color='lightgreen', ax=ax)\n",
    "campsites.plot(color='maroon', markersize=2, ax=ax)\n",
    "trails.plot(color='black', markersize=1, ax=ax)"
   ]
  },
  {
   "cell_type": "code",
   "execution_count": null,
   "metadata": {},
   "outputs": [],
   "source": [
    "# Load a KML file containing island boundaries\n",
    "gpd.io.file.fiona.drvsupport.supported_drivers['KML'] = 'rw'\n",
    "PHL = gpd.read_file(\"../input/geospatial-learn-course-data/Philippines_AL258.kml\", driver='KML')\n",
    "PHL.head()"
   ]
  },
  {
   "cell_type": "markdown",
   "metadata": {},
   "source": [
    "## Coordinate reference system"
   ]
  },
  {
   "cell_type": "code",
   "execution_count": null,
   "metadata": {},
   "outputs": [],
   "source": [
    "# Load a GeoDataFrame containing regions in Ghana\n",
    "regions = gpd.read_file(\"../input/geospatial-learn-course-data/ghana/ghana/Regions/Map_of_Regions_in_Ghana.shp\")\n",
    "print(regions.crs)"
   ]
  },
  {
   "cell_type": "markdown",
   "metadata": {},
   "source": [
    "This GeoDataFrame uses EPSG 32630, which is more commonly called the \"Mercator\" projection. This projection preserves angles (making it useful for sea navigation) and slightly distorts area.\n",
    "\n",
    "However, when creating a GeoDataFrame from a CSV file, we have to set the CRS. EPSG 4326 corresponds to coordinates in latitude and longitude."
   ]
  },
  {
   "cell_type": "code",
   "execution_count": null,
   "metadata": {},
   "outputs": [],
   "source": [
    "# Create a DataFrame with health facilities in Ghana\n",
    "facilities_df = pd.read_csv(\"../input/geospatial-learn-course-data/ghana/ghana/health_facilities.csv\")\n",
    "\n",
    "# Convert the DataFrame to a GeoDataFrame\n",
    "facilities = gpd.GeoDataFrame(facilities_df, geometry=gpd.points_from_xy(facilities_df.Longitude, facilities_df.Latitude))\n",
    "\n",
    "# Set the coordinate reference system (CRS) to EPSG 4326\n",
    "facilities.crs = {'init': 'epsg:4326'}\n",
    "\n",
    "# View the first five rows of the GeoDataFrame\n",
    "facilities.head()"
   ]
  },
  {
   "cell_type": "markdown",
   "metadata": {},
   "source": [
    "### Re project on new crs"
   ]
  },
  {
   "cell_type": "code",
   "execution_count": null,
   "metadata": {},
   "outputs": [],
   "source": [
    "# Create a map\n",
    "ax = regions.plot(figsize=(8,8), color='whitesmoke', linestyle=':', edgecolor='black')\n",
    "facilities.to_crs(epsg=32630).plot(markersize=1, ax=ax) # CHANGE THE CRS"
   ]
  },
  {
   "cell_type": "markdown",
   "metadata": {},
   "source": [
    "In case the EPSG code is not available in GeoPandas, we can change the CRS with what's known as the \"proj4 string\" of the CRS. For instance, the proj4 string to convert to latitude/longitude coordinates is as follows:\n",
    "\n",
    "+proj=longlat +ellps=WGS84 +datum=WGS84 +no_defs"
   ]
  },
  {
   "cell_type": "code",
   "execution_count": null,
   "metadata": {},
   "outputs": [],
   "source": [
    "# Change the CRS to EPSG 4326\n",
    "regions.to_crs(\"+proj=longlat +ellps=WGS84 +datum=WGS84 +no_defs\").head()"
   ]
  },
  {
   "cell_type": "code",
   "execution_count": null,
   "metadata": {},
   "outputs": [],
   "source": [
    "# x y attributes\n",
    "# Get the x-coordinate of each point\n",
    "facilities.geometry.x.head()"
   ]
  },
  {
   "cell_type": "code",
   "execution_count": null,
   "metadata": {},
   "outputs": [],
   "source": [
    "# areas and lengths for lines and polygons\n",
    "\n",
    "# Calculate the area (in square meters) of each polygon in the GeoDataFrame \n",
    "regions.loc[:, \"AREA\"] = regions.geometry.area / 10**6\n",
    "\n",
    "print(\"Area of Ghana: {} square kilometers\".format(regions.AREA.sum()))\n",
    "print(\"CRS:\", regions.crs)\n",
    "regions.head()"
   ]
  },
  {
   "cell_type": "code",
   "execution_count": null,
   "metadata": {},
   "outputs": [],
   "source": [
    "# GeoDataFrame showing path for each bird\n",
    "path_df = birds.groupby(\"tag-local-identifier\")['geometry'].apply(list).apply(lambda x: LineString(x)).reset_index()\n",
    "path_gdf = gpd.GeoDataFrame(path_df, geometry=path_df.geometry)\n",
    "path_gdf.crs = {'init' :'epsg:4326'}\n",
    "\n",
    "# GeoDataFrame showing starting point for each bird\n",
    "start_df = birds.groupby(\"tag-local-identifier\")['geometry'].apply(list).apply(lambda x: x[0]).reset_index()\n",
    "start_gdf = gpd.GeoDataFrame(start_df, geometry=start_df.geometry)\n",
    "start_gdf.crs = {'init' :'epsg:4326'}\n",
    "\n",
    "# Show first five rows of GeoDataFrame\n",
    "start_gdf.head()"
   ]
  },
  {
   "cell_type": "code",
   "execution_count": null,
   "metadata": {},
   "outputs": [],
   "source": [
    "# Your code here\n",
    "ax = americas.plot(figsize=(10, 10), color='white', linestyle=':', edgecolor='gray')\n",
    "\n",
    "start_gdf.plot(ax=ax, color='red',  markersize=30)\n",
    "path_gdf.plot(ax=ax, cmap='tab20b', linestyle='-', linewidth=1, zorder=1)\n",
    "end_gdf.plot(ax=ax, color='black', markersize=30)"
   ]
  },
  {
   "cell_type": "markdown",
   "metadata": {},
   "source": [
    "## Interactive maps"
   ]
  },
  {
   "cell_type": "code",
   "execution_count": null,
   "metadata": {},
   "outputs": [],
   "source": [
    "import folium\n",
    "from folium import Choropleth, Circle, Marker\n",
    "from folium.plugins import HeatMap, MarkerCluster"
   ]
  },
  {
   "cell_type": "code",
   "execution_count": null,
   "metadata": {},
   "outputs": [],
   "source": [
    "# Create a map\n",
    "m_1 = folium.Map(location=[42.32,-71.0589], tiles='openstreetmap', zoom_start=10)\n",
    "\n",
    "# Display the map\n",
    "m_1"
   ]
  },
  {
   "cell_type": "code",
   "execution_count": null,
   "metadata": {},
   "outputs": [],
   "source": [
    "# Load the data\n",
    "crimes = pd.read_csv(\"../input/geospatial-learn-course-data/crimes-in-boston/crimes-in-boston/crime.csv\", encoding='latin-1')\n",
    "\n",
    "# Drop rows with missing locations\n",
    "crimes.dropna(subset=['Lat', 'Long', 'DISTRICT'], inplace=True)\n",
    "\n",
    "# Focus on major crimes in 2018\n",
    "crimes = crimes[crimes.OFFENSE_CODE_GROUP.isin([\n",
    "    'Larceny', 'Auto Theft', 'Robbery', 'Larceny From Motor Vehicle', 'Residential Burglary',\n",
    "    'Simple Assault', 'Harassment', 'Ballistics', 'Aggravated Assault', 'Other Burglary', \n",
    "    'Arson', 'Commercial Burglary', 'HOME INVASION', 'Homicide', 'Criminal Harassment', \n",
    "    'Manslaughter'])]\n",
    "crimes = crimes[crimes.YEAR>=2018]\n",
    "\n",
    "# Print the first five rows of the table\n",
    "crimes.head()"
   ]
  },
  {
   "cell_type": "code",
   "execution_count": null,
   "metadata": {},
   "outputs": [],
   "source": [
    "daytime_robberies = crimes[((crimes.OFFENSE_CODE_GROUP == 'Robbery') & \\\n",
    "                            (crimes.HOUR.isin(range(9,18))))]"
   ]
  },
  {
   "cell_type": "code",
   "execution_count": null,
   "metadata": {},
   "outputs": [],
   "source": [
    "# Create a map\n",
    "m_2 = folium.Map(location=[42.32,-71.0589], tiles='cartodbpositron', zoom_start=13)\n",
    "\n",
    "# Add points to the map\n",
    "for idx, row in daytime_robberies.iterrows():\n",
    "    Marker([row['Lat'], row['Long']]).add_to(m_2)\n",
    "\n",
    "# Display the map\n",
    "m_2"
   ]
  },
  {
   "cell_type": "code",
   "execution_count": null,
   "metadata": {},
   "outputs": [],
   "source": [
    "# Create the map\n",
    "m_3 = folium.Map(location=[42.32,-71.0589], tiles='cartodbpositron', zoom_start=13)\n",
    "\n",
    "# Add points to the map\n",
    "mc = MarkerCluster()\n",
    "for idx, row in daytime_robberies.iterrows():\n",
    "    if not math.isnan(row['Long']) and not math.isnan(row['Lat']):\n",
    "        mc.add_child(Marker([row['Lat'], row['Long']]))\n",
    "m_3.add_child(mc)\n",
    "\n",
    "# Display the map\n",
    "m_3"
   ]
  },
  {
   "cell_type": "code",
   "execution_count": null,
   "metadata": {},
   "outputs": [],
   "source": [
    "# Create a base map\n",
    "m_4 = folium.Map(location=[42.32,-71.0589], tiles='cartodbpositron', zoom_start=13)\n",
    "\n",
    "def color_producer(val):\n",
    "    if val <= 12:\n",
    "        return 'forestgreen'\n",
    "    else:\n",
    "        return 'darkred'\n",
    "\n",
    "# Add a bubble map to the base map\n",
    "for i in range(0,len(daytime_robberies)):\n",
    "    Circle(\n",
    "        location=[daytime_robberies.iloc[i]['Lat'], daytime_robberies.iloc[i]['Long']],\n",
    "        radius=20,\n",
    "        color=color_producer(daytime_robberies.iloc[i]['HOUR'])).add_to(m_4)\n",
    "\n",
    "# Display the map\n",
    "m_4"
   ]
  },
  {
   "cell_type": "markdown",
   "metadata": {},
   "source": [
    "### heatmap"
   ]
  },
  {
   "cell_type": "code",
   "execution_count": null,
   "metadata": {},
   "outputs": [],
   "source": [
    "# Create a base map\n",
    "m_5 = folium.Map(location=[42.32,-71.0589], tiles='cartodbpositron', zoom_start=12)\n",
    "\n",
    "# Add a heatmap to the base map\n",
    "HeatMap(data=crimes[['Lat', 'Long']], radius=10).add_to(m_5)\n",
    "\n",
    "# Display the map\n",
    "m_5"
   ]
  },
  {
   "cell_type": "markdown",
   "metadata": {},
   "source": [
    "### chloropleth map"
   ]
  },
  {
   "cell_type": "code",
   "execution_count": null,
   "metadata": {},
   "outputs": [],
   "source": [
    "# GeoDataFrame with geographical boundaries of Boston police districts\n",
    "districts_full = gpd.read_file('../input/geospatial-learn-course-data/Police_Districts/Police_Districts/Police_Districts.shp')\n",
    "districts = districts_full[[\"DISTRICT\", \"geometry\"]].set_index(\"DISTRICT\")\n",
    "districts.head()"
   ]
  },
  {
   "cell_type": "code",
   "execution_count": null,
   "metadata": {},
   "outputs": [],
   "source": [
    "# Number of crimes in each police district\n",
    "plot_dict = crimes.DISTRICT.value_counts()\n",
    "plot_dict.head()"
   ]
  },
  {
   "cell_type": "code",
   "execution_count": null,
   "metadata": {},
   "outputs": [],
   "source": [
    "# Create a base map\n",
    "m_6 = folium.Map(location=[42.32,-71.0589], tiles='cartodbpositron', zoom_start=12)\n",
    "\n",
    "# Add a choropleth map to the base map\n",
    "Choropleth(geo_data=districts.__geo_interface__, \n",
    "           data=plot_dict, \n",
    "           key_on=\"feature.id\", \n",
    "           fill_color='YlGnBu', \n",
    "           legend_name='Major criminal incidents (Jan-Aug 2018)'\n",
    "          ).add_to(m_6)\n",
    "\n",
    "# Display the map\n",
    "m_6"
   ]
  },
  {
   "cell_type": "markdown",
   "metadata": {},
   "source": [
    "We define a function embed_map() for displaying interactive maps. It accepts two arguments: the variable containing the map, and the name of the HTML file where the map will be saved.\n",
    "\n",
    "This function ensures that the maps are visible in all web browsers."
   ]
  },
  {
   "cell_type": "code",
   "execution_count": null,
   "metadata": {},
   "outputs": [],
   "source": [
    "def embed_map(m, file_name):\n",
    "    from IPython.display import IFrame\n",
    "    m.save(file_name)\n",
    "    return IFrame(file_name, width='100%', height='500px')"
   ]
  },
  {
   "cell_type": "code",
   "execution_count": null,
   "metadata": {},
   "outputs": [],
   "source": [
    "plate_boundaries = gpd.read_file(\"../input/geospatial-learn-course-data/Plate_Boundaries/Plate_Boundaries/Plate_Boundaries.shp\")\n",
    "plate_boundaries['coordinates'] = plate_boundaries.apply(lambda x: [(b,a) for (a,b) in list(x.geometry.coords)], axis='columns')\n",
    "plate_boundaries.drop('geometry', axis=1, inplace=True)\n",
    "\n",
    "plate_boundaries.head()"
   ]
  },
  {
   "cell_type": "code",
   "execution_count": null,
   "metadata": {},
   "outputs": [],
   "source": [
    "# Load the data and print the first 5 rows\n",
    "earthquakes = pd.read_csv(\"../input/geospatial-learn-course-data/earthquakes1970-2014.csv\", parse_dates=[\"DateTime\"])\n",
    "earthquakes.head()"
   ]
  },
  {
   "cell_type": "code",
   "execution_count": null,
   "metadata": {},
   "outputs": [],
   "source": [
    "# Create a base map with plate boundaries\n",
    "m_1 = folium.Map(location=[35,136], tiles='cartodbpositron', zoom_start=5)\n",
    "for i in range(len(plate_boundaries)):\n",
    "    folium.PolyLine(locations=plate_boundaries.coordinates.iloc[i], weight=2, color='black').add_to(m_1)\n",
    "\n",
    "# Your code here: Add a heatmap to the map\n",
    "# Add a heatmap to the map\n",
    "HeatMap(data=earthquakes[['Latitude', 'Longitude']], radius=15).add_to(m_1)\n",
    "\n",
    "# Uncomment to see a hint\n",
    "#q_1.a.hint()\n",
    "\n",
    "# Show the map\n",
    "embed_map(m_1, 'q_1.html')"
   ]
  },
  {
   "cell_type": "code",
   "execution_count": null,
   "metadata": {},
   "outputs": [],
   "source": [
    "# Create a base map with plate boundaries\n",
    "m_2 = folium.Map(location=[35,136], tiles='cartodbpositron', zoom_start=5)\n",
    "for i in range(len(plate_boundaries)):\n",
    "    folium.PolyLine(locations=plate_boundaries.coordinates.iloc[i], weight=2, color='black').add_to(m_2)\n",
    "    \n",
    "# Your code here: Add a map to visualize earthquake depth\n",
    "# Custom function to assign a color to each circle\n",
    "def color_producer(val):\n",
    "    if val < 50:\n",
    "        return 'forestgreen'\n",
    "    elif val < 100:\n",
    "        return 'darkorange'\n",
    "    else:\n",
    "        return 'darkred'\n",
    "\n",
    "# Add a map to visualize earthquake depth\n",
    "for i in range(0,len(earthquakes)):\n",
    "    folium.Circle(\n",
    "        location=[earthquakes.iloc[i]['Latitude'], earthquakes.iloc[i]['Longitude']],\n",
    "        radius=2000,\n",
    "        color=color_producer(earthquakes.iloc[i]['Depth'])).add_to(m_2)\n",
    "\n",
    "# Uncomment to see a hint\n",
    "q_2.a.hint()\n",
    "\n",
    "# View the map\n",
    "embed_map(m_2, 'q_2.html')"
   ]
  },
  {
   "cell_type": "markdown",
   "metadata": {},
   "source": [
    "## Manipulating geospatial data"
   ]
  },
  {
   "cell_type": "code",
   "execution_count": null,
   "metadata": {},
   "outputs": [],
   "source": [
    "!pip install geopy==1.22.0\n",
    "import pandas as pd\n",
    "import geopandas as gpd\n",
    "import numpy as np\n",
    "import folium\n",
    "from folium import Marker"
   ]
  },
  {
   "cell_type": "code",
   "execution_count": null,
   "metadata": {},
   "outputs": [],
   "source": [
    "from geopandas.tools import geocode"
   ]
  },
  {
   "cell_type": "code",
   "execution_count": null,
   "metadata": {},
   "outputs": [],
   "source": [
    "result = geocode(\"The Great Pyramid of Giza\", provider=\"nominatim\")\n",
    "result"
   ]
  },
  {
   "cell_type": "code",
   "execution_count": null,
   "metadata": {},
   "outputs": [],
   "source": [
    "def my_geocoder(row):\n",
    "    try:\n",
    "        point = geocode(row, provider='nominatim').geometry.iloc[0]\n",
    "        return pd.Series({'Latitude': point.y, 'Longitude': point.x, 'geometry': point})\n",
    "    except:\n",
    "        return None\n",
    "\n",
    "universities[['Latitude', 'Longitude', 'geometry']] = universities.apply(lambda x: my_geocoder(x['Name']), axis=1)\n",
    "\n",
    "print(\"{}% of addresses were geocoded!\".format(\n",
    "    (1 - sum(np.isnan(universities[\"Latitude\"])) / len(universities)) * 100))\n",
    "\n",
    "# Drop universities that were not successfully geocoded\n",
    "universities = universities.loc[~np.isnan(universities[\"Latitude\"])]\n",
    "universities = gpd.GeoDataFrame(universities, geometry=universities.geometry)\n",
    "universities.crs = {'init': 'epsg:4326'}\n",
    "universities.head()"
   ]
  },
  {
   "cell_type": "code",
   "execution_count": null,
   "metadata": {},
   "outputs": [],
   "source": [
    "world = gpd.read_file(gpd.datasets.get_path('naturalearth_lowres'))\n",
    "europe = world.loc[world.continent == 'Europe'].reset_index(drop=True)\n",
    "\n",
    "europe_stats = europe[[\"name\", \"pop_est\", \"gdp_md_est\"]]\n",
    "europe_boundaries = europe[[\"name\", \"geometry\"]]"
   ]
  },
  {
   "cell_type": "code",
   "execution_count": null,
   "metadata": {},
   "outputs": [],
   "source": [
    "# Use an attribute join to merge data about countries in Europe\n",
    "europe = europe_boundaries.merge(europe_stats, on=\"name\")\n",
    "europe.head()"
   ]
  },
  {
   "cell_type": "code",
   "execution_count": null,
   "metadata": {},
   "outputs": [],
   "source": [
    "# Use spatial join to match universities to countries in Europe\n",
    "european_universities = gpd.sjoin(universities, europe)\n",
    "\n",
    "# Investigate the result\n",
    "print(\"We located {} universities.\".format(len(universities)))\n",
    "print(\"Only {} of the universities were located in Europe (in {} different countries).\".format(\n",
    "    len(european_universities), len(european_universities.name.unique())))\n",
    "\n",
    "european_universities.head()"
   ]
  },
  {
   "cell_type": "code",
   "execution_count": null,
   "metadata": {},
   "outputs": [],
   "source": [
    "CA_pop = pd.read_csv(\"../input/geospatial-learn-course-data/CA_county_population.csv\", index_col=\"GEOID\")\n",
    "CA_high_earners = pd.read_csv(\"../input/geospatial-learn-course-data/CA_county_high_earners.csv\", index_col=\"GEOID\")\n",
    "CA_median_age = pd.read_csv(\"../input/geospatial-learn-course-data/CA_county_median_age.csv\", index_col=\"GEOID\")"
   ]
  },
  {
   "cell_type": "code",
   "execution_count": null,
   "metadata": {},
   "outputs": [],
   "source": [
    "cols_to_add = CA_pop.join([CA_high_earners, CA_median_age]).reset_index()\n",
    "CA_stats = CA_counties.merge(cols_to_add, on=\"GEOID\")"
   ]
  },
  {
   "cell_type": "markdown",
   "metadata": {},
   "source": [
    "## Proximity analysis"
   ]
  },
  {
   "cell_type": "code",
   "execution_count": null,
   "metadata": {},
   "outputs": [],
   "source": [
    "import folium\n",
    "from folium import Marker, GeoJson\n",
    "from folium.plugins import HeatMap\n",
    "\n",
    "import pandas as pd\n",
    "from shapely.geometry import MultiPolygon\n",
    "import geopandas as gpd"
   ]
  },
  {
   "cell_type": "code",
   "execution_count": null,
   "metadata": {},
   "outputs": [],
   "source": [
    "# Select one release incident in particular\n",
    "recent_release = releases.iloc[360]\n",
    "\n",
    "# Measure distance from release to each station\n",
    "distances = stations.geometry.distance(recent_release.geometry)\n",
    "distances"
   ]
  },
  {
   "cell_type": "code",
   "execution_count": null,
   "metadata": {},
   "outputs": [],
   "source": [
    "print('Mean distance to monitoring stations: {} feet'.format(distances.mean()))\n",
    "\n",
    "print('Closest monitoring station ({} feet):'.format(distances.min()))\n",
    "print(stations.iloc[distances.idxmin()][[\"ADDRESS\", \"LATITUDE\", \"LONGITUDE\"]])"
   ]
  },
  {
   "cell_type": "markdown",
   "metadata": {},
   "source": [
    "### Creating a buffer\n",
    "If we want to understand all points on a map that are some radius away from a point, the simplest way is to create a buffer.\n",
    "\n",
    "The code cell below creates a GeoSeries two_mile_buffer containing 12 different Polygon objects. Each polygon is a buffer of 2 miles (or, 2*5280 feet) around a different air monitoring station."
   ]
  },
  {
   "cell_type": "code",
   "execution_count": null,
   "metadata": {},
   "outputs": [],
   "source": [
    "two_mile_buffer = stations.geometry.buffer(2*5280)\n",
    "two_mile_buffer.head()"
   ]
  },
  {
   "cell_type": "code",
   "execution_count": null,
   "metadata": {},
   "outputs": [],
   "source": [
    "# Create map with release incidents and monitoring stations\n",
    "m = folium.Map(location=[39.9526,-75.1652], zoom_start=11)\n",
    "HeatMap(data=releases[['LATITUDE', 'LONGITUDE']], radius=15).add_to(m)\n",
    "for idx, row in stations.iterrows():\n",
    "    Marker([row['LATITUDE'], row['LONGITUDE']]).add_to(m)\n",
    "    \n",
    "# Plot each polygon on the map\n",
    "GeoJson(two_mile_buffer.to_crs(epsg=4326)).add_to(m)\n",
    "\n",
    "# Show the map\n",
    "m"
   ]
  },
  {
   "cell_type": "code",
   "execution_count": null,
   "metadata": {},
   "outputs": [],
   "source": [
    "# Turn group of polygons into single multipolygon\n",
    "my_union = two_mile_buffer.geometry.unary_union\n",
    "print('Type:', type(my_union))\n",
    "\n",
    "# Show the MultiPolygon object\n",
    "my_union"
   ]
  },
  {
   "cell_type": "code",
   "execution_count": null,
   "metadata": {},
   "outputs": [],
   "source": [
    "# The closest station is less than two miles away\n",
    "my_union.contains(releases.iloc[360].geometry)"
   ]
  },
  {
   "cell_type": "code",
   "execution_count": null,
   "metadata": {},
   "outputs": [],
   "source": [
    "# Your code here\n",
    "coverage = gpd.GeoDataFrame(geometry=hospitals.geometry).buffer(10000)\n",
    "my_union = coverage.geometry.unary_union\n",
    "outside_range = collisions.loc[~collisions[\"geometry\"].apply(lambda x: my_union.contains(x))]\n"
   ]
  },
  {
   "cell_type": "code",
   "execution_count": null,
   "metadata": {},
   "outputs": [],
   "source": [
    "percentage = round(100*len(outside_range)/len(collisions), 2)\n",
    "print(\"Percentage of collisions more than 10 km away from the closest hospital: {}%\".format(percentage))"
   ]
  },
  {
   "cell_type": "code",
   "execution_count": null,
   "metadata": {},
   "outputs": [],
   "source": [
    "def best_hospital(collision_location):\n",
    "    idx_min = hospitals.geometry.distance(collision_location).idxmin()\n",
    "    my_hospital = hospitals.iloc[idx_min]\n",
    "    name = my_hospital[\"name\"]\n",
    "    return name\n",
    "\n",
    "# Test your function: this should suggest CALVARY HOSPITAL INC\n",
    "print(best_hospital(outside_range.geometry.iloc[0]))"
   ]
  },
  {
   "cell_type": "code",
   "execution_count": null,
   "metadata": {},
   "outputs": [],
   "source": [
    "# Your code here\n",
    "highest_demand = outside_range.geometry.apply(best_hospital).value_counts().idxmax()"
   ]
  },
  {
   "cell_type": "code",
   "execution_count": null,
   "metadata": {},
   "outputs": [],
   "source": [
    "m_6 = folium.Map(location=[40.7, -74], zoom_start=11) \n",
    "\n",
    "coverage = gpd.GeoDataFrame(geometry=hospitals.geometry).buffer(10000)\n",
    "folium.GeoJson(coverage.geometry.to_crs(epsg=4326)).add_to(m_6)\n",
    "HeatMap(data=outside_range[['LATITUDE', 'LONGITUDE']], radius=9).add_to(m_6)\n",
    "folium.LatLngPopup().add_to(m_6)\n",
    "\n",
    "embed_map(m_6, 'm_6.html')"
   ]
  }
 ],
 "metadata": {
  "kernelspec": {
   "display_name": "Python 3",
   "language": "python",
   "name": "python3"
  },
  "language_info": {
   "codemirror_mode": {
    "name": "ipython",
    "version": 3
   },
   "file_extension": ".py",
   "mimetype": "text/x-python",
   "name": "python",
   "nbconvert_exporter": "python",
   "pygments_lexer": "ipython3",
   "version": "3.8.5"
  }
 },
 "nbformat": 4,
 "nbformat_minor": 4
}
