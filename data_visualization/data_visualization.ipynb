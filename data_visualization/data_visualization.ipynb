{
 "cells": [
  {
   "cell_type": "markdown",
   "metadata": {},
   "source": [
    "# Kaggle Tuto on data vizualization"
   ]
  },
  {
   "cell_type": "code",
   "execution_count": null,
   "metadata": {},
   "outputs": [],
   "source": [
    "# Path of the file to read\n",
    "fifa_filepath = \"../input/fifa.csv\"\n",
    "\n",
    "# Read the file into a variable fifa_data\n",
    "fifa_data = pd.read_csv(fifa_filepath, index_col=\"Date\", parse_dates=True)\n",
    "\n",
    "# Set the width and height of the figure\n",
    "plt.figure(figsize=(16,6))\n",
    "\n",
    "# Add title\n",
    "plt.title(\"Daily Global Streams of Popular Songs in 2017-2018\")\n",
    "\n",
    "# Line chart showing how FIFA rankings evolved over time \n",
    "sns.lineplot(data=fifa_data)\n",
    "\n",
    "# Add label for horizontal axis\n",
    "plt.xlabel(\"Date\")"
   ]
  },
  {
   "cell_type": "markdown",
   "metadata": {},
   "source": [
    "sns.barplot and sns.heatmap"
   ]
  },
  {
   "cell_type": "code",
   "execution_count": null,
   "metadata": {},
   "outputs": [],
   "source": [
    "# Set the width and height of the figure\n",
    "plt.figure(figsize=(14,6))\n",
    "\n",
    "# Add title\n",
    "plt.title(\"Daily Global Streams of Popular Songs in 2017-2018\")\n",
    "\n",
    "# Line chart showing daily global streams of 'Shape of You'\n",
    "sns.lineplot(data=spotify_data['Shape of You'], label=\"Shape of You\")\n",
    "\n",
    "# Line chart showing daily global streams of 'Despacito'\n",
    "sns.lineplot(data=spotify_data['Despacito'], label=\"Despacito\")\n",
    "\n",
    "# Add label for horizontal axis\n",
    "plt.xlabel(\"Date\")"
   ]
  },
  {
   "cell_type": "code",
   "execution_count": null,
   "metadata": {},
   "outputs": [],
   "source": [
    "# Path of the file to read\n",
    "museum_filepath = \"../input/museum_visitors.csv\"\n",
    "\n",
    "# Fill in the line below to read the file into a variable museum_data\n",
    "museum_data = pd.read_csv(museum_filepath, index_col=\"Date\", parse_dates=True)\n",
    "\n",
    "# Run the line below with no changes to check that you've loaded the data correctly\n",
    "step_1.check()"
   ]
  },
  {
   "cell_type": "code",
   "execution_count": null,
   "metadata": {},
   "outputs": [],
   "source": [
    "# Set the width and height of the figure\n",
    "plt.figure(figsize=(10,6))\n",
    "\n",
    "# Add title\n",
    "plt.title(\"Average Arrival Delay for Spirit Airlines Flights, by Month\")\n",
    "\n",
    "# Bar chart showing average arrival delay for Spirit Airlines flights by month\n",
    "sns.barplot(x=flight_data.index, y=flight_data['NK'])\n",
    "\n",
    "# Add label for vertical axis\n",
    "plt.ylabel(\"Arrival delay (in minutes)\")"
   ]
  },
  {
   "cell_type": "code",
   "execution_count": null,
   "metadata": {},
   "outputs": [],
   "source": [
    "# Set the width and height of the figure\n",
    "plt.figure(figsize=(14,7))\n",
    "\n",
    "# Add title\n",
    "plt.title(\"Average Arrival Delay for Each Airline, by Month\")\n",
    "\n",
    "# Heatmap showing average arrival delay for each airline by month\n",
    "sns.heatmap(data=flight_data, annot=True)\n",
    "\n",
    "# Add label for horizontal axis\n",
    "plt.xlabel(\"Airline\")"
   ]
  },
  {
   "cell_type": "code",
   "execution_count": null,
   "metadata": {},
   "outputs": [],
   "source": [
    "# Set the width and height of the figure\n",
    "plt.figure(figsize=(8, 6))\n",
    "# Bar chart showing average score for racing games by platform\n",
    "sns.barplot(x=ign_data['Racing'], y=ign_data.index)\n",
    "# Add label for horizontal axis\n",
    "plt.xlabel(\"\")\n",
    "# Add label for vertical axis\n",
    "plt.title(\"Average Score for Racing Games, by Platform\")"
   ]
  },
  {
   "cell_type": "code",
   "execution_count": null,
   "metadata": {},
   "outputs": [],
   "source": [
    "sns.scatterplot(x=insurance_data['bmi'], y=insurance_data['charges'])\n",
    "\n",
    "sns.regplot(x=insurance_data['bmi'], y=insurance_data['charges'])\n",
    "\n",
    "sns.scatterplot(x=insurance_data['bmi'], y=insurance_data['charges'], hue=insurance_data['smoker'])\n",
    "\n",
    "sns.lmplot(x=\"bmi\", y=\"charges\", hue=\"smoker\", data=insurance_data)\n",
    "\n",
    "sns.swarmplot(x=insurance_data['smoker'],\n",
    "              y=insurance_data['charges'])"
   ]
  },
  {
   "cell_type": "code",
   "execution_count": null,
   "metadata": {},
   "outputs": [],
   "source": [
    "# Histogram \n",
    "sns.distplot(a=iris_data['Petal Length (cm)'], kde=False)\n",
    "\n",
    "# KDE plot \n",
    "sns.kdeplot(data=iris_data['Petal Length (cm)'], shade=True)\n",
    "\n",
    "# 2D KDE plot\n",
    "sns.jointplot(x=iris_data['Petal Length (cm)'], y=iris_data['Sepal Width (cm)'], kind=\"kde\")"
   ]
  },
  {
   "cell_type": "code",
   "execution_count": null,
   "metadata": {},
   "outputs": [],
   "source": [
    "# Histograms for each species\n",
    "sns.distplot(a=iris_set_data['Petal Length (cm)'], label=\"Iris-setosa\", kde=False)\n",
    "sns.distplot(a=iris_ver_data['Petal Length (cm)'], label=\"Iris-versicolor\", kde=False)\n",
    "sns.distplot(a=iris_vir_data['Petal Length (cm)'], label=\"Iris-virginica\", kde=False)\n",
    "\n",
    "# Add title\n",
    "plt.title(\"Histogram of Petal Lengths, by Species\")\n",
    "\n",
    "# Force legend to appear\n",
    "plt.legend()"
   ]
  },
  {
   "cell_type": "code",
   "execution_count": null,
   "metadata": {},
   "outputs": [],
   "source": [
    "# KDE plots for each species\n",
    "sns.kdeplot(data=iris_set_data['Petal Length (cm)'], label=\"Iris-setosa\", shade=True)\n",
    "sns.kdeplot(data=iris_ver_data['Petal Length (cm)'], label=\"Iris-versicolor\", shade=True)\n",
    "sns.kdeplot(data=iris_vir_data['Petal Length (cm)'], label=\"Iris-virginica\", shade=True)\n",
    "\n",
    "# Add title\n",
    "plt.title(\"Distribution of Petal Lengths, by Species\")"
   ]
  },
  {
   "cell_type": "code",
   "execution_count": null,
   "metadata": {},
   "outputs": [],
   "source": [
    "# Change the style of the figure to the \"dark\" theme\n",
    "sns.set_style(\"dark\")\n",
    "\n",
    "# Line chart \n",
    "plt.figure(figsize=(12,6))\n",
    "sns.lineplot(data=spotify_data)"
   ]
  },
  {
   "cell_type": "markdown",
   "metadata": {},
   "source": [
    "(1)\"darkgrid\", (2)\"whitegrid\", (3)\"dark\", (4)\"white\", and (5)\"ticks\""
   ]
  }
 ],
 "metadata": {
  "kernelspec": {
   "display_name": "Python 3",
   "language": "python",
   "name": "python3"
  },
  "language_info": {
   "codemirror_mode": {
    "name": "ipython",
    "version": 3
   },
   "file_extension": ".py",
   "mimetype": "text/x-python",
   "name": "python",
   "nbconvert_exporter": "python",
   "pygments_lexer": "ipython3",
   "version": "3.8.5"
  }
 },
 "nbformat": 4,
 "nbformat_minor": 4
}
